{
 "cells": [
  {
   "cell_type": "markdown",
   "id": "b5487989",
   "metadata": {},
   "source": [
    "# Crosstab and Groupby"
   ]
  },
  {
   "cell_type": "code",
   "execution_count": null,
   "id": "8f0dd1fc",
   "metadata": {},
   "outputs": [],
   "source": [
    "# Don't change this cell; just run it.\n",
    "import numpy as np  # The array library.\n",
    "import pandas as pd\n",
    "# Safe setting for Pandas.  Needs Pandas version >= 1.5.\n",
    "pd.set_option('mode.copy_on_write', True)\n",
    "\n",
    "# The OKpy testing system.\n",
    "from client.api.notebook import Notebook\n",
    "ok = Notebook('crosstab_groupby.ok')"
   ]
  },
  {
   "cell_type": "markdown",
   "id": "538b50c6",
   "metadata": {},
   "source": [
    "## The Chronic Kidney Disease dataset"
   ]
  },
  {
   "cell_type": "markdown",
   "id": "e46b3938",
   "metadata": {},
   "source": [
    "We will use a dataset on chronic kidney disease (CKD) dataset.  Each row in the\n",
    "data set represents a single patient who was treated in the past and whose\n",
    "diagnosis is known.\n",
    "\n",
    "If you are running on your laptop, you should download the `ckd_clean.csv`\n",
    "dataset via the [chronic kidney disease page](https://lisds.github.io/textbook/data/chronic_kidney_disease).\n",
    "\n",
    "Load the `ckd_clean.csv` dataset as the variable `ckd`:"
   ]
  },
  {
   "cell_type": "code",
   "execution_count": null,
   "id": "283cb1e3",
   "metadata": {},
   "outputs": [],
   "source": [
    "ckd = ...\n",
    "ckd.head()"
   ]
  },
  {
   "cell_type": "code",
   "execution_count": null,
   "id": "72227d3f",
   "metadata": {},
   "outputs": [],
   "source": [
    "_ = ok.grade('q_01_ckd')"
   ]
  },
  {
   "cell_type": "markdown",
   "id": "2769ffef",
   "metadata": {},
   "source": [
    "The values in the `Class` column are not very evocative: 1 for chronic kidney\n",
    "disease, 0 for not chronic kidney disease.\n",
    "\n",
    "Make a new column called `Patient` in the `ckd` data frame.   It should have\n",
    "`CKD` for patients with chronic kidney disease and `Not CKD` otherwise."
   ]
  },
  {
   "cell_type": "code",
   "execution_count": null,
   "id": "da56624e",
   "metadata": {},
   "outputs": [],
   "source": [
    "ckd['Patient'] = ...\n",
    "# Show the first 5 rows of the result.\n",
    "ckd.head()"
   ]
  },
  {
   "cell_type": "code",
   "execution_count": null,
   "id": "affd49d2",
   "metadata": {},
   "outputs": [],
   "source": [
    "_ = ok.grade('q_02_patient')"
   ]
  },
  {
   "cell_type": "markdown",
   "id": "c4430f34",
   "metadata": {},
   "source": [
    "We are interested to see the counts of CKD patient and not-patients that have\n",
    "hypertension (high blood pressure).\n",
    "\n",
    "Set `ht_by_patient` to be a data frame that is the cross-tabulation of the\n",
    "`Hypertension` (rows) and `Patient` (columns) categories:"
   ]
  },
  {
   "cell_type": "code",
   "execution_count": null,
   "id": "7d477276",
   "metadata": {},
   "outputs": [],
   "source": [
    "ht_by_patient = ...\n",
    "# Show the resulting table.\n",
    "ht_by_patient"
   ]
  },
  {
   "cell_type": "code",
   "execution_count": null,
   "id": "ee0cd8f9",
   "metadata": {},
   "outputs": [],
   "source": [
    "_ = ok.grade('q_03_ht_by_patient')"
   ]
  },
  {
   "cell_type": "markdown",
   "id": "e09a4c0f",
   "metadata": {},
   "source": [
    "Actually, it would be even more useful to see the proportions of CKD and\n",
    "not-CKD patients that have hypertension.  Set the variable `ht_p_by_patient` to\n",
    "be a data frame where the values are the proportion of patients in the given\n",
    "category, that have hypertension."
   ]
  },
  {
   "cell_type": "code",
   "execution_count": null,
   "id": "51fab2a7",
   "metadata": {},
   "outputs": [],
   "source": [
    "ht_p_by_patient = ...\n",
    "# Show the result\n",
    "ht_p_by_patient"
   ]
  },
  {
   "cell_type": "code",
   "execution_count": null,
   "id": "52359bc9",
   "metadata": {},
   "outputs": [],
   "source": [
    "_ = ok.grade('q_04_ht_p_by_patient')"
   ]
  },
  {
   "cell_type": "markdown",
   "id": "abbf038d",
   "metadata": {},
   "source": [
    "Now we are interested in the incidence of pedal edema in the patients and\n",
    "not-patients.  Pedal edema is swelling of the feet caused by fluid retention;\n",
    "it is relatively common in kidney disease.\n",
    "\n",
    "Now do a multiway table with all the unique pairings of `Hypertension` and\n",
    "`Pedal Edema` over the rows, and the `Patient` category in the columns.\n",
    "\n",
    "You will see the following combinations listed in the rows:\n",
    "\n",
    "* Hypertension: no; pedal edema: no\n",
    "* Hypertension: no; pedal edema: yes\n",
    "* Hypertension: yes; pedal edema: no\n",
    "* Hypertension: yes; pedal edema: yes\n",
    "\n",
    "Set the variable `ht_pe_by_patient` to contain this data frame."
   ]
  },
  {
   "cell_type": "code",
   "execution_count": null,
   "id": "74639a12",
   "metadata": {},
   "outputs": [],
   "source": [
    "ht_pe_by_patient = ...\n",
    "# Show the result\n",
    "ht_pe_by_patient"
   ]
  },
  {
   "cell_type": "code",
   "execution_count": null,
   "id": "430c5c24",
   "metadata": {},
   "outputs": [],
   "source": [
    "_ = ok.grade('q_05_ht_pe_by_patient')"
   ]
  },
  {
   "cell_type": "markdown",
   "id": "9fa71f8b",
   "metadata": {},
   "source": [
    "## Grouping\n",
    "\n",
    "Now we are interested in doing some aggregation by categories.\n",
    "\n",
    "In particular, we want to aggregate by the `Patient` column.\n",
    "\n",
    "Create a GroupBy object by grouping the `ckd` data frame by the `Patient`\n",
    "column.  Store this in the variable `by_patient`."
   ]
  },
  {
   "cell_type": "code",
   "execution_count": null,
   "id": "69439d10",
   "metadata": {},
   "outputs": [],
   "source": [
    "by_patient = ...\n",
    "# Show the result\n",
    "by_patient"
   ]
  },
  {
   "cell_type": "code",
   "execution_count": null,
   "id": "f4e7fdd1",
   "metadata": {},
   "outputs": [],
   "source": [
    "_ = ok.grade('q_06_by_patient')"
   ]
  },
  {
   "cell_type": "markdown",
   "id": "7321088e",
   "metadata": {},
   "source": [
    "Calculate the means of all the numeric variables over the groups, store the\n",
    "results as `mean_by_patient`."
   ]
  },
  {
   "cell_type": "code",
   "execution_count": null,
   "id": "a03eeb1b",
   "metadata": {},
   "outputs": [],
   "source": [
    "mean_by_patient = ...\n",
    "# Show the result\n",
    "mean_by_patient"
   ]
  },
  {
   "cell_type": "code",
   "execution_count": null,
   "id": "05080c0f",
   "metadata": {},
   "outputs": [],
   "source": [
    "_ = ok.grade('q_07_mean_by_patient')"
   ]
  },
  {
   "cell_type": "markdown",
   "id": "29204fbf",
   "metadata": {},
   "source": [
    "Actually, we are only interested, for now, in the mean for the `Hemoglobin`\n",
    "column.  Calculate this mean, broken down by `Patient`.  Store as\n",
    "`hgb_by_patient`."
   ]
  },
  {
   "cell_type": "code",
   "execution_count": null,
   "id": "75ad5e12",
   "metadata": {},
   "outputs": [],
   "source": [
    "hgb_by_patient = ...\n",
    "# Show the result\n",
    "hgb_by_patient"
   ]
  },
  {
   "cell_type": "code",
   "execution_count": null,
   "id": "8b82b342",
   "metadata": {},
   "outputs": [],
   "source": [
    "_ = ok.grade('q_08_hgb_by_patient')"
   ]
  },
  {
   "cell_type": "markdown",
   "id": "4a6ab7eb",
   "metadata": {},
   "source": [
    "Use `.loc` indexing to print the results of the same calculation.  You should\n",
    "select the `CKD` rows from `ckd` and calculate the mean of the `Hemoglobin`\n",
    "values, and then do the same for the `Not CKD` rows."
   ]
  },
  {
   "cell_type": "code",
   "execution_count": null,
   "id": "a52c262f",
   "metadata": {},
   "outputs": [],
   "source": [
    "print(ckd.loc...)\n",
    "print(ckd.loc...)"
   ]
  },
  {
   "cell_type": "markdown",
   "id": "0d08b64b",
   "metadata": {},
   "source": [
    "You should find that the results are the same as the results from the GroupBy\n",
    "above."
   ]
  },
  {
   "cell_type": "markdown",
   "id": "b17e75bf",
   "metadata": {},
   "source": [
    "Make a GroupBy that breaks down the rows by *both* `Patient` and `Diabetes\n",
    "Mellitus`.  Show the *median* of all the numerical values for each subgroup:"
   ]
  },
  {
   "cell_type": "code",
   "execution_count": null,
   "id": "7538a623",
   "metadata": {},
   "outputs": [],
   "source": [
    "by_pt_dm = ...\n",
    "pt_dm_medians = ...\n",
    "# Show the result\n",
    "pt_dm_medians"
   ]
  },
  {
   "cell_type": "code",
   "execution_count": null,
   "id": "5737f09f",
   "metadata": {},
   "outputs": [],
   "source": [
    "_ = ok.grade('q_09_pt_dm_medians')"
   ]
  },
  {
   "cell_type": "markdown",
   "id": "073594aa",
   "metadata": {},
   "source": [
    "Finally we return to the GroupBy over `Patient` (only).  We do want to\n",
    "aggregate, but we want only two aggregate values.  We want the mean of the\n",
    "`Blood Pressure` values - we will call the resulting column `mean_bp`.  We also\n",
    "want the median of the `Age` values.   We will call this column `median_age`:"
   ]
  },
  {
   "cell_type": "code",
   "execution_count": null,
   "id": "48a9ce5d",
   "metadata": {},
   "outputs": [],
   "source": [
    "fancy_values = by_patient.aggregate(...)\n",
    "# Show the result\n",
    "fancy_values"
   ]
  },
  {
   "cell_type": "code",
   "execution_count": null,
   "id": "60b2b923",
   "metadata": {},
   "outputs": [],
   "source": [
    "_ = ok.grade('q_10_fancy_values')"
   ]
  },
  {
   "cell_type": "markdown",
   "id": "85739761",
   "metadata": {},
   "source": [
    "## Done.\n",
    "\n",
    "Congratulations, you're done with the assignment!  Be sure to:\n",
    "\n",
    "- **run all the tests** (the next cell has a shortcut for that).\n",
    "- **Save and Checkpoint** from the `File` menu."
   ]
  },
  {
   "cell_type": "code",
   "execution_count": null,
   "id": "f545b473",
   "metadata": {},
   "outputs": [],
   "source": [
    "# For your convenience, you can run this cell to run all the tests at once!\n",
    "import os\n",
    "_ = [ok.grade(q[:-3]) for q in os.listdir(\"tests\") if q.startswith('q')]"
   ]
  }
 ],
 "metadata": {
  "jupytext": {
   "notebook_metadata_filter": "all,-language_info",
   "split_at_heading": true,
   "text_representation": {
    "extension": ".Rmd",
    "format_name": "rmarkdown",
    "format_version": "1.2",
    "jupytext_version": "1.8.2"
   }
  },
  "kernelspec": {
   "display_name": "Python 3",
   "language": "python",
   "name": "python3"
  }
 },
 "nbformat": 4,
 "nbformat_minor": 5
}
