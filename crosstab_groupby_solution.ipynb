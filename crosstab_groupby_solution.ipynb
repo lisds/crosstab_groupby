{
 "cells": [
  {
   "cell_type": "markdown",
   "id": "79d06e28",
   "metadata": {},
   "source": [
    "# Crosstab and Groupby"
   ]
  },
  {
   "cell_type": "code",
   "execution_count": 1,
   "id": "543434da",
   "metadata": {
    "execution": {
     "iopub.execute_input": "2023-02-01T20:07:25.448897Z",
     "iopub.status.busy": "2023-02-01T20:07:25.448555Z",
     "iopub.status.idle": "2023-02-01T20:07:25.918683Z",
     "shell.execute_reply": "2023-02-01T20:07:25.918320Z"
    }
   },
   "outputs": [],
   "source": [
    "# Don't change this cell; just run it.\n",
    "import numpy as np  # The array library.\n",
    "import pandas as pd\n",
    "# Safe setting for Pandas.  Needs Pandas version >= 1.5.\n",
    "pd.set_option('mode.copy_on_write', True)\n",
    "\n",
    "# The OKpy testing system.\n",
    "from client.api.notebook import Notebook\n",
    "ok = Notebook('crosstab_groupby.ok')"
   ]
  },
  {
   "cell_type": "markdown",
   "id": "fd96c8e2",
   "metadata": {},
   "source": [
    "## The Chronic Kidney Disease dataset"
   ]
  },
  {
   "cell_type": "markdown",
   "id": "d0470b3e",
   "metadata": {},
   "source": [
    "We will use a dataset on chronic kidney disease (CKD) dataset.  Each row in the\n",
    "data set represents a single patient who was treated in the past and whose\n",
    "diagnosis is known.\n",
    "\n",
    "If you are running on your laptop, you should download the `ckd_clean.csv`\n",
    "dataset via the [chronic kidney disease page](https://lisds.github.io/textbook/data/chronic_kidney_disease).\n",
    "\n",
    "Load the `ckd_clean.csv` dataset as the variable `ckd`:"
   ]
  },
  {
   "cell_type": "code",
   "execution_count": 2,
   "id": "d249a531",
   "metadata": {
    "execution": {
     "iopub.execute_input": "2023-02-01T20:07:25.920887Z",
     "iopub.status.busy": "2023-02-01T20:07:25.920661Z",
     "iopub.status.idle": "2023-02-01T20:07:25.936437Z",
     "shell.execute_reply": "2023-02-01T20:07:25.936090Z"
    }
   },
   "outputs": [],
   "source": [
    "ckd = pd.read_csv('ckd_clean.csv')\n",
    "ckd.head()"
   ]
  },
  {
   "cell_type": "code",
   "execution_count": 3,
   "id": "538a7e0f",
   "metadata": {
    "execution": {
     "iopub.execute_input": "2023-02-01T20:07:25.938374Z",
     "iopub.status.busy": "2023-02-01T20:07:25.938222Z",
     "iopub.status.idle": "2023-02-01T20:07:25.975055Z",
     "shell.execute_reply": "2023-02-01T20:07:25.974704Z"
    }
   },
   "outputs": [],
   "source": [
    "_ = ok.grade('q_01_ckd')"
   ]
  },
  {
   "cell_type": "markdown",
   "id": "e9e64a63",
   "metadata": {},
   "source": [
    "The values in the `Class` column are not very evocative: 1 for chronic kidney\n",
    "disease, 0 for not chronic kidney disease.\n",
    "\n",
    "Make a new column called `Patient` in the `ckd` data frame.   It should have\n",
    "`CKD` for patients with chronic kidney disease and `Not CKD` otherwise."
   ]
  },
  {
   "cell_type": "code",
   "execution_count": 4,
   "id": "4505d443",
   "metadata": {
    "execution": {
     "iopub.execute_input": "2023-02-01T20:07:25.978860Z",
     "iopub.status.busy": "2023-02-01T20:07:25.978715Z",
     "iopub.status.idle": "2023-02-01T20:07:25.989752Z",
     "shell.execute_reply": "2023-02-01T20:07:25.989419Z"
    }
   },
   "outputs": [],
   "source": [
    "ckd['Patient'] = 'Not CKD'\n",
    "ckd.loc[ckd['Class'] == 1, 'Patient'] = 'CKD'\n",
    "# Show the first 5 rows of the result.\n",
    "ckd.head()"
   ]
  },
  {
   "cell_type": "code",
   "execution_count": 5,
   "id": "cd01e291",
   "metadata": {
    "execution": {
     "iopub.execute_input": "2023-02-01T20:07:25.991542Z",
     "iopub.status.busy": "2023-02-01T20:07:25.991399Z",
     "iopub.status.idle": "2023-02-01T20:07:25.999953Z",
     "shell.execute_reply": "2023-02-01T20:07:25.999578Z"
    }
   },
   "outputs": [],
   "source": [
    "_ = ok.grade('q_02_patient')"
   ]
  },
  {
   "cell_type": "markdown",
   "id": "6b6db2fe",
   "metadata": {},
   "source": [
    "We are interested to see the counts of CKD patient and not-patients that have\n",
    "hypertension (high blood pressure).\n",
    "\n",
    "Set `ht_by_patient` to be a data frame that is the cross-tabulation of the\n",
    "`Hypertension` (rows) and `Patient` (columns) categories:"
   ]
  },
  {
   "cell_type": "code",
   "execution_count": 6,
   "id": "4cb16e46",
   "metadata": {
    "execution": {
     "iopub.execute_input": "2023-02-01T20:07:26.003567Z",
     "iopub.status.busy": "2023-02-01T20:07:26.003430Z",
     "iopub.status.idle": "2023-02-01T20:07:26.012298Z",
     "shell.execute_reply": "2023-02-01T20:07:26.011988Z"
    }
   },
   "outputs": [],
   "source": [
    "ht_by_patient = pd.crosstab(ckd['Hypertension'], ckd['Patient'])\n",
    "# Show the resulting table.\n",
    "ht_by_patient"
   ]
  },
  {
   "cell_type": "code",
   "execution_count": 7,
   "id": "37513486",
   "metadata": {
    "execution": {
     "iopub.execute_input": "2023-02-01T20:07:26.014054Z",
     "iopub.status.busy": "2023-02-01T20:07:26.013905Z",
     "iopub.status.idle": "2023-02-01T20:07:26.022869Z",
     "shell.execute_reply": "2023-02-01T20:07:26.022523Z"
    }
   },
   "outputs": [],
   "source": [
    "_ = ok.grade('q_03_ht_by_patient')"
   ]
  },
  {
   "cell_type": "markdown",
   "id": "6628631d",
   "metadata": {},
   "source": [
    "Actually, it would be even more useful to see the proportions of CKD and\n",
    "not-CKD patients that have hypertension.  Set the variable `ht_p_by_patient` to\n",
    "be a data frame where the values are the proportion of patients in the given\n",
    "category, that have hypertension."
   ]
  },
  {
   "cell_type": "code",
   "execution_count": 8,
   "id": "59038a01",
   "metadata": {
    "execution": {
     "iopub.execute_input": "2023-02-01T20:07:26.026138Z",
     "iopub.status.busy": "2023-02-01T20:07:26.025998Z",
     "iopub.status.idle": "2023-02-01T20:07:26.034020Z",
     "shell.execute_reply": "2023-02-01T20:07:26.033680Z"
    }
   },
   "outputs": [],
   "source": [
    "ht_p_by_patient = pd.crosstab(ckd['Hypertension'], ckd['Patient'],\n",
    "                              normalize='columns')\n",
    "# Show the result\n",
    "ht_p_by_patient"
   ]
  },
  {
   "cell_type": "code",
   "execution_count": 9,
   "id": "a94658fc",
   "metadata": {
    "execution": {
     "iopub.execute_input": "2023-02-01T20:07:26.035813Z",
     "iopub.status.busy": "2023-02-01T20:07:26.035668Z",
     "iopub.status.idle": "2023-02-01T20:07:26.044535Z",
     "shell.execute_reply": "2023-02-01T20:07:26.044200Z"
    }
   },
   "outputs": [],
   "source": [
    "_ = ok.grade('q_04_ht_p_by_patient')"
   ]
  },
  {
   "cell_type": "markdown",
   "id": "8bf16948",
   "metadata": {},
   "source": [
    "Now we are interested in the incidence of pedal edema in the patients and\n",
    "not-patients.  Pedal edema is swelling of the feet caused by fluid retention;\n",
    "it is relatively common in kidney disease.\n",
    "\n",
    "Now do a multiway table with all the unique pairings of `Hypertension` and\n",
    "`Pedal Edema` over the rows, and the `Patient` category in the columns.\n",
    "\n",
    "You will see the following combinations listed in the rows:\n",
    "\n",
    "* Hypertension: no; pedal edema: no\n",
    "* Hypertension: no; pedal edema: yes\n",
    "* Hypertension: yes; pedal edema: no\n",
    "* Hypertension: yes; pedal edema: yes\n",
    "\n",
    "Set the variable `ht_pe_by_patient` to contain this data frame."
   ]
  },
  {
   "cell_type": "code",
   "execution_count": 10,
   "id": "e32faf57",
   "metadata": {
    "execution": {
     "iopub.execute_input": "2023-02-01T20:07:26.048103Z",
     "iopub.status.busy": "2023-02-01T20:07:26.047963Z",
     "iopub.status.idle": "2023-02-01T20:07:26.056018Z",
     "shell.execute_reply": "2023-02-01T20:07:26.055688Z"
    }
   },
   "outputs": [],
   "source": [
    "ht_pe_by_patient = pd.crosstab(\n",
    "        [ckd['Hypertension'], ckd['Pedal Edema']],\n",
    "        ckd['Patient'])\n",
    "# Show the result\n",
    "ht_pe_by_patient"
   ]
  },
  {
   "cell_type": "code",
   "execution_count": 11,
   "id": "6a1c218d",
   "metadata": {
    "execution": {
     "iopub.execute_input": "2023-02-01T20:07:26.057776Z",
     "iopub.status.busy": "2023-02-01T20:07:26.057634Z",
     "iopub.status.idle": "2023-02-01T20:07:26.066756Z",
     "shell.execute_reply": "2023-02-01T20:07:26.066395Z"
    }
   },
   "outputs": [],
   "source": [
    "_ = ok.grade('q_05_ht_pe_by_patient')"
   ]
  },
  {
   "cell_type": "markdown",
   "id": "f176447f",
   "metadata": {},
   "source": [
    "## Grouping\n",
    "\n",
    "Now we are interested in doing some aggregation by categories.\n",
    "\n",
    "In particular, we want to aggregate by the `Patient` column.\n",
    "\n",
    "Create a GroupBy object by grouping the `ckd` data frame by the `Patient`\n",
    "column.  Store this in the variable `by_patient`."
   ]
  },
  {
   "cell_type": "code",
   "execution_count": 12,
   "id": "68f738b7",
   "metadata": {
    "execution": {
     "iopub.execute_input": "2023-02-01T20:07:26.070045Z",
     "iopub.status.busy": "2023-02-01T20:07:26.069908Z",
     "iopub.status.idle": "2023-02-01T20:07:26.072620Z",
     "shell.execute_reply": "2023-02-01T20:07:26.072296Z"
    }
   },
   "outputs": [],
   "source": [
    "by_patient = ckd.groupby('Patient')\n",
    "# Show the result\n",
    "by_patient"
   ]
  },
  {
   "cell_type": "code",
   "execution_count": 13,
   "id": "118bb24a",
   "metadata": {
    "execution": {
     "iopub.execute_input": "2023-02-01T20:07:26.074412Z",
     "iopub.status.busy": "2023-02-01T20:07:26.074272Z",
     "iopub.status.idle": "2023-02-01T20:07:26.083067Z",
     "shell.execute_reply": "2023-02-01T20:07:26.082693Z"
    }
   },
   "outputs": [],
   "source": [
    "_ = ok.grade('q_06_by_patient')"
   ]
  },
  {
   "cell_type": "markdown",
   "id": "a8484449",
   "metadata": {},
   "source": [
    "Calculate the means of all the numeric variables over the groups, store the\n",
    "results as `mean_by_patient`."
   ]
  },
  {
   "cell_type": "code",
   "execution_count": 14,
   "id": "da73d122",
   "metadata": {
    "execution": {
     "iopub.execute_input": "2023-02-01T20:07:26.086517Z",
     "iopub.status.busy": "2023-02-01T20:07:26.086378Z",
     "iopub.status.idle": "2023-02-01T20:07:26.095093Z",
     "shell.execute_reply": "2023-02-01T20:07:26.094794Z"
    }
   },
   "outputs": [],
   "source": [
    "mean_by_patient = by_patient.mean()\n",
    "# Show the result\n",
    "mean_by_patient"
   ]
  },
  {
   "cell_type": "code",
   "execution_count": 15,
   "id": "c3a89d49",
   "metadata": {
    "execution": {
     "iopub.execute_input": "2023-02-01T20:07:26.096819Z",
     "iopub.status.busy": "2023-02-01T20:07:26.096681Z",
     "iopub.status.idle": "2023-02-01T20:07:26.105118Z",
     "shell.execute_reply": "2023-02-01T20:07:26.104774Z"
    }
   },
   "outputs": [],
   "source": [
    "_ = ok.grade('q_07_mean_by_patient')"
   ]
  },
  {
   "cell_type": "markdown",
   "id": "79f76423",
   "metadata": {},
   "source": [
    "Actually, we are only interested, for now, in the mean for the `Hemoglobin`\n",
    "column.  Calculate this mean, broken down by `Patient`.  Store as\n",
    "`hgb_by_patient`."
   ]
  },
  {
   "cell_type": "code",
   "execution_count": 16,
   "id": "8c3f0abe",
   "metadata": {
    "execution": {
     "iopub.execute_input": "2023-02-01T20:07:26.108513Z",
     "iopub.status.busy": "2023-02-01T20:07:26.108266Z",
     "iopub.status.idle": "2023-02-01T20:07:26.111471Z",
     "shell.execute_reply": "2023-02-01T20:07:26.111107Z"
    }
   },
   "outputs": [],
   "source": [
    "hgb_by_patient = by_patient['Hemoglobin'].mean()\n",
    "# Show the result\n",
    "hgb_by_patient"
   ]
  },
  {
   "cell_type": "code",
   "execution_count": 17,
   "id": "f7545c97",
   "metadata": {
    "execution": {
     "iopub.execute_input": "2023-02-01T20:07:26.113213Z",
     "iopub.status.busy": "2023-02-01T20:07:26.113104Z",
     "iopub.status.idle": "2023-02-01T20:07:26.121424Z",
     "shell.execute_reply": "2023-02-01T20:07:26.121105Z"
    }
   },
   "outputs": [],
   "source": [
    "_ = ok.grade('q_08_hgb_by_patient')"
   ]
  },
  {
   "cell_type": "markdown",
   "id": "c9292a9e",
   "metadata": {},
   "source": [
    "Use `.loc` indexing to print the results of the same calculation.  You should\n",
    "select the `CKD` rows from `ckd` and calculate the mean of the `Hemoglobin`\n",
    "values, and then do the same for the `Not CKD` rows."
   ]
  },
  {
   "cell_type": "code",
   "execution_count": 18,
   "id": "aea658df",
   "metadata": {
    "execution": {
     "iopub.execute_input": "2023-02-01T20:07:26.124638Z",
     "iopub.status.busy": "2023-02-01T20:07:26.124499Z",
     "iopub.status.idle": "2023-02-01T20:07:26.128120Z",
     "shell.execute_reply": "2023-02-01T20:07:26.127748Z"
    }
   },
   "outputs": [],
   "source": [
    "print(ckd.loc[ckd['Patient'] == 'CKD', 'Hemoglobin'].mean())\n",
    "print(ckd.loc[ckd['Patient'] == 'Not CKD', 'Hemoglobin'].mean())"
   ]
  },
  {
   "cell_type": "markdown",
   "id": "00cde45e",
   "metadata": {},
   "source": [
    "You should find that the results are the same as the results from the GroupBy\n",
    "above."
   ]
  },
  {
   "cell_type": "markdown",
   "id": "c84da4eb",
   "metadata": {},
   "source": [
    "Make a GroupBy that breaks down the rows by *both* `Patient` and `Diabetes\n",
    "Mellitus`.  Show the *median* of all the numerical values for each subgroup:"
   ]
  },
  {
   "cell_type": "code",
   "execution_count": 19,
   "id": "dd4d4352",
   "metadata": {
    "execution": {
     "iopub.execute_input": "2023-02-01T20:07:26.130115Z",
     "iopub.status.busy": "2023-02-01T20:07:26.130000Z",
     "iopub.status.idle": "2023-02-01T20:07:26.140227Z",
     "shell.execute_reply": "2023-02-01T20:07:26.139863Z"
    }
   },
   "outputs": [],
   "source": [
    "by_pt_dm = ckd.groupby(['Patient', 'Diabetes Mellitus'])\n",
    "pt_dm_medians = by_pt_dm.median()\n",
    "# Show the result\n",
    "pt_dm_medians"
   ]
  },
  {
   "cell_type": "code",
   "execution_count": 20,
   "id": "1d632ac7",
   "metadata": {
    "execution": {
     "iopub.execute_input": "2023-02-01T20:07:26.142011Z",
     "iopub.status.busy": "2023-02-01T20:07:26.141868Z",
     "iopub.status.idle": "2023-02-01T20:07:26.150968Z",
     "shell.execute_reply": "2023-02-01T20:07:26.150589Z"
    }
   },
   "outputs": [],
   "source": [
    "_ = ok.grade('q_09_pt_dm_medians')"
   ]
  },
  {
   "cell_type": "markdown",
   "id": "35ba19ae",
   "metadata": {},
   "source": [
    "Finally we return to the GroupBy over `Patient` (only).  We do want to\n",
    "aggregate, but we want only two aggregate values.  We want the mean of the\n",
    "`Blood Pressure` values - we will call the resulting column `mean_bp`.  We also\n",
    "want the median of the `Age` values.   We will call this column `median_age`:"
   ]
  },
  {
   "cell_type": "code",
   "execution_count": 21,
   "id": "04d3d566",
   "metadata": {
    "execution": {
     "iopub.execute_input": "2023-02-01T20:07:26.154228Z",
     "iopub.status.busy": "2023-02-01T20:07:26.154089Z",
     "iopub.status.idle": "2023-02-01T20:07:26.161807Z",
     "shell.execute_reply": "2023-02-01T20:07:26.161476Z"
    }
   },
   "outputs": [],
   "source": [
    "fancy_values = by_patient.aggregate(\n",
    "    mean_bp=('Blood Pressure', 'mean'),\n",
    "    median_age=('Age', 'median')\n",
    ")\n",
    "# Show the result\n",
    "fancy_values"
   ]
  },
  {
   "cell_type": "code",
   "execution_count": 22,
   "id": "e1bc7b41",
   "metadata": {
    "execution": {
     "iopub.execute_input": "2023-02-01T20:07:26.163482Z",
     "iopub.status.busy": "2023-02-01T20:07:26.163353Z",
     "iopub.status.idle": "2023-02-01T20:07:26.171956Z",
     "shell.execute_reply": "2023-02-01T20:07:26.171592Z"
    }
   },
   "outputs": [],
   "source": [
    "_ = ok.grade('q_10_fancy_values')"
   ]
  },
  {
   "cell_type": "markdown",
   "id": "a5b2ff9f",
   "metadata": {},
   "source": [
    "## Done.\n",
    "\n",
    "Congratulations, you're done with the assignment!  Be sure to:\n",
    "\n",
    "- **run all the tests** (the next cell has a shortcut for that).\n",
    "- **Save and Checkpoint** from the `File` menu."
   ]
  },
  {
   "cell_type": "code",
   "execution_count": 23,
   "id": "469c716a",
   "metadata": {
    "execution": {
     "iopub.execute_input": "2023-02-01T20:07:26.175370Z",
     "iopub.status.busy": "2023-02-01T20:07:26.175225Z",
     "iopub.status.idle": "2023-02-01T20:07:26.242111Z",
     "shell.execute_reply": "2023-02-01T20:07:26.241713Z"
    }
   },
   "outputs": [],
   "source": [
    "# For your convenience, you can run this cell to run all the tests at once!\n",
    "import os\n",
    "_ = [ok.grade(q[:-3]) for q in os.listdir(\"tests\") if q.startswith('q')]"
   ]
  }
 ],
 "metadata": {
  "jupytext": {
   "notebook_metadata_filter": "all,-language_info",
   "split_at_heading": true,
   "text_representation": {
    "extension": ".Rmd",
    "format_name": "rmarkdown",
    "format_version": "1.2",
    "jupytext_version": "1.8.2"
   }
  },
  "kernelspec": {
   "display_name": "Python 3",
   "language": "python",
   "name": "python3"
  },
  "language_info": {
   "codemirror_mode": {
    "name": "ipython",
    "version": 3
   },
   "file_extension": ".py",
   "mimetype": "text/x-python",
   "name": "python",
   "nbconvert_exporter": "python",
   "pygments_lexer": "ipython3",
   "version": "3.10.9"
  }
 },
 "nbformat": 4,
 "nbformat_minor": 5
}
